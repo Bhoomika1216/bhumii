{
 "cells": [
  {
   "cell_type": "code",
   "execution_count": 1,
   "id": "5b227b91-9d7a-4f0a-8191-f782e4d6c349",
   "metadata": {},
   "outputs": [
    {
     "name": "stdout",
     "output_type": "stream",
     "text": [
      "2\n"
     ]
    }
   ],
   "source": [
    "print(0b10)"
   ]
  },
  {
   "cell_type": "code",
   "execution_count": 2,
   "id": "9a6cb271-3dc0-43fb-8d92-0f73c3d01d09",
   "metadata": {},
   "outputs": [
    {
     "data": {
      "text/plain": [
       "int"
      ]
     },
     "execution_count": 2,
     "metadata": {},
     "output_type": "execute_result"
    }
   ],
   "source": [
    "type(10)"
   ]
  },
  {
   "cell_type": "code",
   "execution_count": 3,
   "id": "0d1566aa-e872-43da-8d47-4b071a2e30dc",
   "metadata": {},
   "outputs": [
    {
     "data": {
      "text/plain": [
       "str"
      ]
     },
     "execution_count": 3,
     "metadata": {},
     "output_type": "execute_result"
    }
   ],
   "source": [
    "type('abc')"
   ]
  },
  {
   "cell_type": "code",
   "execution_count": 4,
   "id": "487b130c-e409-4614-910b-5207d9ba8008",
   "metadata": {},
   "outputs": [
    {
     "name": "stdout",
     "output_type": "stream",
     "text": [
      "<class 'int'>\n"
     ]
    }
   ],
   "source": [
    "a=11\n",
    "print(type(a))"
   ]
  },
  {
   "cell_type": "code",
   "execution_count": 5,
   "id": "c59a8384-0a84-45dd-8368-1f7c86a2ee52",
   "metadata": {},
   "outputs": [
    {
     "name": "stdout",
     "output_type": "stream",
     "text": [
      "<class 'str'>\n"
     ]
    }
   ],
   "source": [
    "a='string'\n",
    "print(type(a))"
   ]
  },
  {
   "cell_type": "code",
   "execution_count": 6,
   "id": "9969a533-c052-4d6a-b125-d04636fdc41c",
   "metadata": {},
   "outputs": [
    {
     "name": "stdout",
     "output_type": "stream",
     "text": [
      "<class 'float'>\n"
     ]
    }
   ],
   "source": [
    "y=2.8\n",
    "print(type(y))"
   ]
  },
  {
   "cell_type": "code",
   "execution_count": 7,
   "id": "af4770d7-2f99-41e2-835b-58e6b82d39d1",
   "metadata": {},
   "outputs": [
    {
     "data": {
      "text/plain": [
       "float"
      ]
     },
     "execution_count": 7,
     "metadata": {},
     "output_type": "execute_result"
    }
   ],
   "source": [
    "type(.4)"
   ]
  },
  {
   "cell_type": "code",
   "execution_count": 8,
   "id": "bff2ff83-f2db-4787-aeca-0e045c183784",
   "metadata": {},
   "outputs": [
    {
     "name": "stdout",
     "output_type": "stream",
     "text": [
      "<class 'float'>\n"
     ]
    }
   ],
   "source": [
    "x=35e3\n",
    "print(type(x))"
   ]
  },
  {
   "cell_type": "code",
   "execution_count": 9,
   "id": "42f2f87d-4ca2-4fbe-9292-aa2da25774ff",
   "metadata": {},
   "outputs": [
    {
     "data": {
      "text/plain": [
       "bool"
      ]
     },
     "execution_count": 9,
     "metadata": {},
     "output_type": "execute_result"
    }
   ],
   "source": [
    "type(True)"
   ]
  },
  {
   "cell_type": "code",
   "execution_count": 10,
   "id": "9af89f92-1679-4893-b964-50a3362c3dea",
   "metadata": {},
   "outputs": [
    {
     "name": "stdout",
     "output_type": "stream",
     "text": [
      "college\n"
     ]
    }
   ],
   "source": [
    "print(\"college\")"
   ]
  },
  {
   "cell_type": "code",
   "execution_count": 11,
   "id": "e19af786-659d-4b45-8332-0da2506d9ebd",
   "metadata": {},
   "outputs": [
    {
     "data": {
      "text/plain": [
       "str"
      ]
     },
     "execution_count": 11,
     "metadata": {},
     "output_type": "execute_result"
    }
   ],
   "source": [
    "type(\"college\")"
   ]
  },
  {
   "cell_type": "code",
   "execution_count": 12,
   "id": "3af91fa5-721f-46f3-82c5-649f0d47bf47",
   "metadata": {},
   "outputs": [
    {
     "name": "stdout",
     "output_type": "stream",
     "text": [
      "college(')\n"
     ]
    }
   ],
   "source": [
    "print(\"college(')\")"
   ]
  },
  {
   "cell_type": "code",
   "execution_count": 13,
   "id": "6f9eea05-83df-4468-9062-9466e9debe00",
   "metadata": {},
   "outputs": [
    {
     "name": "stdout",
     "output_type": "stream",
     "text": [
      "college('/)\n"
     ]
    }
   ],
   "source": [
    "print(\"college('/)\")"
   ]
  },
  {
   "cell_type": "code",
   "execution_count": 1,
   "id": "edd1b38b-887b-4e8f-8b1f-31a79a2d361c",
   "metadata": {},
   "outputs": [
    {
     "name": "stdout",
     "output_type": "stream",
     "text": [
      "[ 1  3  5  7 11]\n"
     ]
    }
   ],
   "source": [
    "#1D array of some prime numbers\n",
    "import numpy as np\n",
    "prime_array=np.array([1,3,5,7,11])\n",
    "print(prime_array)"
   ]
  },
  {
   "cell_type": "code",
   "execution_count": 2,
   "id": "c939f394-260d-4dff-8273-014b4fb26bf3",
   "metadata": {},
   "outputs": [
    {
     "data": {
      "text/plain": [
       "numpy.int32"
      ]
     },
     "execution_count": 2,
     "metadata": {},
     "output_type": "execute_result"
    }
   ],
   "source": [
    "type(prime_array[-1])"
   ]
  },
  {
   "cell_type": "code",
   "execution_count": 5,
   "id": "07181535-14df-489d-b1df-19500abb25b4",
   "metadata": {},
   "outputs": [
    {
     "name": "stdout",
     "output_type": "stream",
     "text": [
      "[[1 2]\n",
      " [3 4]]\n"
     ]
    }
   ],
   "source": [
    "#2D array\n",
    "sample_array =np.array([[1,2],[3,4]])\n",
    "print(sample_array)"
   ]
  },
  {
   "cell_type": "code",
   "execution_count": 6,
   "id": "7b12bc59-e4fe-49fb-9bdd-f50441c13e8d",
   "metadata": {},
   "outputs": [
    {
     "name": "stdout",
     "output_type": "stream",
     "text": [
      "[[[1 2]\n",
      "  [3 4]]\n",
      "\n",
      " [[5 6]\n",
      "  [7 8]]]\n"
     ]
    }
   ],
   "source": [
    "#3D array\n",
    "sample_array1=np.array([[[1,2],[3,4]],[[5,6],[7,8]]])\n",
    "print(sample_array1)"
   ]
  },
  {
   "cell_type": "code",
   "execution_count": 12,
   "id": "9f6541b4-184b-4d36-be94-29ff29f8357c",
   "metadata": {},
   "outputs": [
    {
     "name": "stdout",
     "output_type": "stream",
     "text": [
      "(2, 3)\n"
     ]
    }
   ],
   "source": [
    "#Array attributes\n",
    "#ndarray.shape\n",
    "sample_array2=np.array([[1,2,3],[4,5,6]])\n",
    "print(sample_array2.shape)"
   ]
  },
  {
   "cell_type": "code",
   "execution_count": 14,
   "id": "bdf5183d-35a9-4423-a2ca-612b9fc113fc",
   "metadata": {},
   "outputs": [
    {
     "name": "stdout",
     "output_type": "stream",
     "text": [
      "dimension of array_of_interger= 1\n"
     ]
    }
   ],
   "source": [
    "#ndarray.ndim\n",
    "array_of_integer=np.array([0,1,2,3,4,5,6,7,8,9])\n",
    "print(\"dimension of array_of_interger=\",array_of_integer.ndim)"
   ]
  },
  {
   "cell_type": "code",
   "execution_count": 15,
   "id": "b8d227d6-9107-485f-a605-df508ae2a81c",
   "metadata": {},
   "outputs": [
    {
     "name": "stdout",
     "output_type": "stream",
     "text": [
      "dimension of sample_array3= 2\n"
     ]
    }
   ],
   "source": [
    "\n",
    "sample_array3=np.array([[1,2,3],[4,5,6]])\n",
    "print(\"dimension of sample_array3=\",sample_array3.ndim)"
   ]
  },
  {
   "cell_type": "code",
   "execution_count": 22,
   "id": "3e4dc01d-0f0c-411a-b23a-fa3fe1908756",
   "metadata": {},
   "outputs": [
    {
     "name": "stdout",
     "output_type": "stream",
     "text": [
      "The total number of elements in our array array_of_integer= {10}\n"
     ]
    }
   ],
   "source": [
    "#ndarray.size\n",
    "array_of_integer=np.array([0,1,2,3,4,5,6,7,8,9])\n",
    "print(\"The total number of elements in our array array_of_integer=\",{array_of_integer.size})"
   ]
  },
  {
   "cell_type": "code",
   "execution_count": 23,
   "id": "4c7caf72-a7a0-40b2-8c0c-238e1e10d0c5",
   "metadata": {},
   "outputs": [
    {
     "name": "stdout",
     "output_type": "stream",
     "text": [
      "the total number of elements in our array sample_2d_array= {10}\n"
     ]
    }
   ],
   "source": [
    "sample_2d_array=np.array([[1,2,3],[4,5,6]])\n",
    "print(f\"the total number of elements in our array sample_2d_array=\",{array_of_integer.size})"
   ]
  },
  {
   "cell_type": "code",
   "execution_count": 24,
   "id": "04cf8301-0586-4e9b-ab7b-e3e5bbf63ded",
   "metadata": {},
   "outputs": [
    {
     "name": "stdout",
     "output_type": "stream",
     "text": [
      "int32\n"
     ]
    }
   ],
   "source": [
    "#ndarray.dtype\n",
    "my_array=np.array([1,2,3,4,5])\n",
    "print(my_array.dtype)"
   ]
  },
  {
   "cell_type": "code",
   "execution_count": 25,
   "id": "aa2a64a5-9a5a-4e67-8536-0e1134c175a2",
   "metadata": {},
   "outputs": [
    {
     "name": "stdout",
     "output_type": "stream",
     "text": [
      "[1, 2, 3, 4, 5, 'abc']\n"
     ]
    }
   ],
   "source": [
    "my_list=[1,2,3,4,5,'abc']\n",
    "print(my_list)"
   ]
  },
  {
   "cell_type": "code",
   "execution_count": 26,
   "id": "48855c12-7b48-463c-ba0d-f04f784805f3",
   "metadata": {},
   "outputs": [
    {
     "name": "stdout",
     "output_type": "stream",
     "text": [
      "int32\n"
     ]
    }
   ],
   "source": [
    "#ndarray.astype\n",
    "arrow=np.array([2,3,4])\n",
    "print(arrow.dtype)"
   ]
  },
  {
   "cell_type": "code",
   "execution_count": 27,
   "id": "d180995c-9521-4e90-ad3c-694cb7038653",
   "metadata": {},
   "outputs": [
    {
     "name": "stdout",
     "output_type": "stream",
     "text": [
      "[2. 3. 4.]\n",
      "float64\n"
     ]
    }
   ],
   "source": [
    "#change the datatype to float\n",
    "arrow=arrow.astype('float64')\n",
    "print(arrow)\n",
    "print(arrow.dtype)"
   ]
  },
  {
   "cell_type": "code",
   "execution_count": null,
   "id": "40041597-1500-4528-a467-89fdc83e95ac",
   "metadata": {},
   "outputs": [],
   "source": []
  }
 ],
 "metadata": {
  "kernelspec": {
   "display_name": "Python 3 (ipykernel)",
   "language": "python",
   "name": "python3"
  },
  "language_info": {
   "codemirror_mode": {
    "name": "ipython",
    "version": 3
   },
   "file_extension": ".py",
   "mimetype": "text/x-python",
   "name": "python",
   "nbconvert_exporter": "python",
   "pygments_lexer": "ipython3",
   "version": "3.11.7"
  }
 },
 "nbformat": 4,
 "nbformat_minor": 5
}
